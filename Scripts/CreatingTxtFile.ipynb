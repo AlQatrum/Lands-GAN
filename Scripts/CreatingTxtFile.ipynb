{
 "cells": [
  {
   "cell_type": "code",
   "execution_count": 1,
   "id": "cd6615d3-f662-4677-924e-7afe7b5f6c19",
   "metadata": {},
   "outputs": [],
   "source": [
    "import os as os"
   ]
  },
  {
   "cell_type": "code",
   "execution_count": 2,
   "id": "f33ebfc1-50d2-473c-ab66-120a3e1c5a10",
   "metadata": {},
   "outputs": [],
   "source": [
    "DataDir = '../Data/Landscapes/img_landscape/'"
   ]
  },
  {
   "cell_type": "code",
   "execution_count": 3,
   "id": "cfa574f5-84b5-4388-bb1b-596eb220aafd",
   "metadata": {},
   "outputs": [],
   "source": [
    "Files = os.listdir(DataDir)"
   ]
  },
  {
   "cell_type": "code",
   "execution_count": 4,
   "id": "e85704f3-454c-4654-a917-b827f0cf4b1c",
   "metadata": {},
   "outputs": [],
   "source": [
    "with open('../DataFiles.txt', 'w') as f:\n",
    "    for File in Files:\n",
    "        f.write(DataDir+File+'\\n')\n",
    "f.close()"
   ]
  }
 ],
 "metadata": {
  "kernelspec": {
   "display_name": "Python 3",
   "language": "python",
   "name": "python3"
  },
  "language_info": {
   "codemirror_mode": {
    "name": "ipython",
    "version": 3
   },
   "file_extension": ".py",
   "mimetype": "text/x-python",
   "name": "python",
   "nbconvert_exporter": "python",
   "pygments_lexer": "ipython3",
   "version": "3.9.5"
  }
 },
 "nbformat": 4,
 "nbformat_minor": 5
}
